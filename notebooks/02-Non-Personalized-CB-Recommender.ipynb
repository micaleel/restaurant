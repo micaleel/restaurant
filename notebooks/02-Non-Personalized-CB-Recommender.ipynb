{
 "cells": [
  {
   "cell_type": "markdown",
   "metadata": {
    "run_control": {
     "frozen": false,
     "read_only": false
    }
   },
   "source": [
    "# 02 - Non-Personalized Content-Based Recommender\n",
    "\n",
    "Here, our goal is develop a non-personalized recommender system. Basically, this means that our recommender system will be able to provide similar items (e.g. restaurant) for any given user selection.\n",
    "\n",
    "This code in this notebook was run with the following configuration:\n",
    "\n",
    "    pd.__version__: 0.21.0"
   ]
  },
  {
   "cell_type": "code",
   "execution_count": 1,
   "metadata": {
    "ExecuteTime": {
     "end_time": "2017-11-14T23:41:58.463230Z",
     "start_time": "2017-11-14T23:41:57.886819Z"
    },
    "run_control": {
     "frozen": false,
     "read_only": false
    }
   },
   "outputs": [],
   "source": [
    "import os\n",
    "\n",
    "import pandas as pd\n",
    "from pprint import pprint\n",
    "from random import choice\n",
    "from sklearn.decomposition import TruncatedSVD\n",
    "from sklearn.feature_extraction.text import TfidfVectorizer\n",
    "\n",
    "from sklearn.metrics.pairwise import cosine_similarity"
   ]
  },
  {
   "cell_type": "markdown",
   "metadata": {
    "ExecuteTime": {
     "end_time": "2017-11-14T21:32:22.178562Z",
     "start_time": "2017-11-14T21:32:22.174697Z"
    },
    "run_control": {
     "frozen": false,
     "read_only": false
    }
   },
   "source": [
    "Load reviews from disk"
   ]
  },
  {
   "cell_type": "code",
   "execution_count": 2,
   "metadata": {
    "ExecuteTime": {
     "end_time": "2017-11-14T23:41:58.792297Z",
     "start_time": "2017-11-14T23:41:58.464925Z"
    },
    "run_control": {
     "frozen": false,
     "read_only": false
    }
   },
   "outputs": [],
   "source": [
    "df_reviews = pd.read_csv('../data/reviews.csv')"
   ]
  },
  {
   "cell_type": "markdown",
   "metadata": {
    "run_control": {
     "frozen": false,
     "read_only": false
    }
   },
   "source": [
    "First, let's remove records with empty or missing reviews"
   ]
  },
  {
   "cell_type": "code",
   "execution_count": 3,
   "metadata": {
    "ExecuteTime": {
     "end_time": "2017-11-14T23:41:58.812251Z",
     "start_time": "2017-11-14T23:41:58.794043Z"
    },
    "run_control": {
     "frozen": false,
     "read_only": false
    }
   },
   "outputs": [],
   "source": [
    "df_reviews.dropna(subset=['review_text'], inplace=True)\n",
    "df_reviews['review_text'] = df_reviews.review_text.astype(str)"
   ]
  },
  {
   "cell_type": "markdown",
   "metadata": {
    "run_control": {
     "frozen": false,
     "read_only": false
    }
   },
   "source": [
    "## Concatenate Reviews per Item\n",
    "\n",
    "We intend to represent each item based on the words that are mentioned in its reviews. So, first thing is to combine all the reviews of each item in preparation to compute a bag-of-word representation for it."
   ]
  },
  {
   "cell_type": "code",
   "execution_count": 4,
   "metadata": {
    "ExecuteTime": {
     "end_time": "2017-11-14T23:41:58.817860Z",
     "start_time": "2017-11-14T23:41:58.814058Z"
    },
    "run_control": {
     "frozen": false,
     "read_only": false
    }
   },
   "outputs": [],
   "source": [
    "def concat_reviews(df_reviews=None, id_column=None):\n",
    "    assert id_column in ('user_id', 'item_id')\n",
    "    for _, (id_value, df) in enumerate(df_reviews.groupby(id_column)):\n",
    "        yield (id_value, ' '.join(df.review_text.tolist()))"
   ]
  },
  {
   "cell_type": "code",
   "execution_count": 5,
   "metadata": {
    "ExecuteTime": {
     "end_time": "2017-11-14T23:42:02.882635Z",
     "start_time": "2017-11-14T23:41:58.819591Z"
    },
    "run_control": {
     "frozen": false,
     "read_only": false
    }
   },
   "outputs": [],
   "source": [
    "df_user_reviews = pd.DataFrame(\n",
    "    concat_reviews(df_reviews, id_column='user_id'),\n",
    "    columns=['user_id', 'review_text']\n",
    ")\n",
    "df_user_reviews.to_csv(os.path.join('../data/user-reviews.csv'), index=False)\n",
    "\n",
    "df_item_reviews = pd.DataFrame(\n",
    "    concat_reviews(df_reviews, id_column='item_id'),\n",
    "    columns=['item_id', 'review_text']\n",
    ")\n",
    "df_item_reviews.to_csv(os.path.join('../data/item-reviews.csv'), index=False)\n",
    "\n",
    "del df_reviews    # We don't need this anymore!"
   ]
  },
  {
   "cell_type": "code",
   "execution_count": 6,
   "metadata": {
    "ExecuteTime": {
     "end_time": "2017-11-14T23:42:02.888734Z",
     "start_time": "2017-11-14T23:42:02.884270Z"
    },
    "run_control": {
     "frozen": false,
     "read_only": false
    }
   },
   "outputs": [
    {
     "name": "stdout",
     "output_type": "stream",
     "text": [
      "Number of items: 4,174\n",
      "Number of users: 11,165\n"
     ]
    }
   ],
   "source": [
    "print('Number of items: {:,}'.format(len(df_item_reviews)))\n",
    "print('Number of users: {:,}'.format(len(df_user_reviews)))"
   ]
  },
  {
   "cell_type": "markdown",
   "metadata": {
    "ExecuteTime": {
     "start_time": "2017-11-14T21:41:52.622Z"
    },
    "run_control": {
     "frozen": false,
     "read_only": false
    }
   },
   "source": [
    "## Create Bag-of-Words Representation\n",
    "\n",
    "Next, using the newly created dataframe (i.e. `df_item_reviews`), we create TF-IDF matrix where the rows represent items and the columns represent the words mentioned in the all the reviews of the item."
   ]
  },
  {
   "cell_type": "code",
   "execution_count": 7,
   "metadata": {
    "ExecuteTime": {
     "end_time": "2017-11-14T23:42:05.882462Z",
     "start_time": "2017-11-14T23:42:02.890343Z"
    },
    "run_control": {
     "frozen": false,
     "read_only": false
    }
   },
   "outputs": [
    {
     "name": "stdout",
     "output_type": "stream",
     "text": [
      "TF-IDF matrix created with dimensions (4174, 49225)\n"
     ]
    }
   ],
   "source": [
    "vectorizer = TfidfVectorizer()\n",
    "matrix = vectorizer.fit_transform(df_item_reviews.review_text)\n",
    "print('TF-IDF matrix created with dimensions', matrix.shape)"
   ]
  },
  {
   "cell_type": "markdown",
   "metadata": {
    "run_control": {
     "frozen": false,
     "read_only": false
    }
   },
   "source": [
    "When dealing with a large corpus of text, it's possible that the vocabulary can be massive. Because this will lead to each item (or user) being represented in a high dimensional space, computing similarities could have costly performance implications.\n",
    "\n",
    "Optionally, if resources are scarce (e.g. you're building a recommender on a laptop), you can reduce this dimension so that an item is now represented using fewer latent features, for example:"
   ]
  },
  {
   "cell_type": "code",
   "execution_count": 8,
   "metadata": {
    "ExecuteTime": {
     "end_time": "2017-11-14T23:42:08.507698Z",
     "start_time": "2017-11-14T23:42:05.883933Z"
    },
    "run_control": {
     "frozen": false,
     "read_only": false
    }
   },
   "outputs": [],
   "source": [
    "# Uncomment these lines if you want to apply dimensionality reduction.\n",
    "# \n",
    "n_features = 100    # higher features may result in better recommendations.\n",
    "reducer = TruncatedSVD(n_components=n_features)\n",
    "matrix = reducer.fit_transform(matrix)"
   ]
  },
  {
   "cell_type": "code",
   "execution_count": 9,
   "metadata": {
    "ExecuteTime": {
     "end_time": "2017-11-14T23:42:08.512493Z",
     "start_time": "2017-11-14T23:42:08.509330Z"
    },
    "run_control": {
     "frozen": false,
     "read_only": false
    }
   },
   "outputs": [],
   "source": [
    "# IMPORTANT: this re-orders the integer index of item reviews. It's crucial\n",
    "# the the index starts at 0 and increases consistently to the 1 - num_of_items.\n",
    "# This will then be used to build and item_id lookup table.\n",
    "df_item_reviews.reset_index(drop=True, inplace=True)"
   ]
  },
  {
   "cell_type": "markdown",
   "metadata": {
    "run_control": {
     "frozen": false,
     "read_only": false
    }
   },
   "source": [
    "Computing pairwise similarities (i.e. each item vs every other item) can be very expensive, especially for the `cosine_similarity` function. Therefore, we will split our item profiles into `n_parts`, each representing a range of unique rows. That way, we can compute the similarities of the rows in each `n_part` against all other rows in our matrix."
   ]
  },
  {
   "cell_type": "code",
   "execution_count": 10,
   "metadata": {
    "ExecuteTime": {
     "end_time": "2017-11-14T23:42:08.528384Z",
     "start_time": "2017-11-14T23:42:08.514418Z"
    },
    "run_control": {
     "frozen": false,
     "read_only": false
    }
   },
   "outputs": [
    {
     "name": "stdout",
     "output_type": "stream",
     "text": [
      "intervals:  [(0, 834), (834, 1668), (1668, 2502), (2502, 3336), (3336, 4174)]\n"
     ]
    }
   ],
   "source": [
    "def get_split_intervals(n_items: int, n_parts: int):\n",
    "    \"\"\"Get intervals for splitting an array of n_items into n_parts\n",
    "\n",
    "    Args:\n",
    "        n_items (int): The number of items in the array\n",
    "        n_parts (int): The number of parts to split the array\n",
    "\n",
    "    Returns:\n",
    "        list: A list of tuples, each containing a lower and upper-bound index.\n",
    "    \"\"\"\n",
    "    min_idx, max_idx = 0, 0\n",
    "    intervals = []\n",
    "    for p in range(0, n_parts):\n",
    "        max_idx += int(n_items / n_parts)\n",
    "        interval = (min_idx, n_items) if p == n_parts - 1 else (min_idx, max_idx)\n",
    "        intervals.append(interval)\n",
    "        min_idx = max_idx\n",
    "    return intervals\n",
    "\n",
    "\n",
    "n_parts = 5\n",
    "intervals = get_split_intervals(n_items=matrix.shape[0], n_parts=n_parts)\n",
    "print('intervals: ', intervals)"
   ]
  },
  {
   "cell_type": "markdown",
   "metadata": {
    "run_control": {
     "frozen": false,
     "read_only": false
    }
   },
   "source": [
    "Let's also create a lookup for item IDs. Essentially, it's a dictionary (or a lookup table) where \n",
    "\n",
    "- the **keys** correspond to the row value of the item in the `df_item_reviews` dataframe, and \n",
    "- the **values** correspond to the actualy ID of the item (i.e. the restaurant)"
   ]
  },
  {
   "cell_type": "code",
   "execution_count": 11,
   "metadata": {
    "ExecuteTime": {
     "end_time": "2017-11-14T23:42:08.535678Z",
     "start_time": "2017-11-14T23:42:08.530204Z"
    },
    "run_control": {
     "frozen": false,
     "read_only": false
    }
   },
   "outputs": [
    {
     "name": "stdout",
     "output_type": "stream",
     "text": [
      "[(0, '--9e1ONYQuAa-CB_Rrw7Tw'),\n",
      " (1, '--cZ6Hhc9F7VkKXxHMVZSQ'),\n",
      " (2, '-0NhdsDJsdarxyDPR523ZQ')]\n"
     ]
    }
   ],
   "source": [
    "item_id_lookup = df_item_reviews.item_id.to_dict()  \n",
    "pprint(list(item_id_lookup.items())[:3])"
   ]
  },
  {
   "cell_type": "markdown",
   "metadata": {
    "ExecuteTime": {
     "end_time": "2017-11-14T23:05:24.893920Z",
     "start_time": "2017-11-14T23:05:24.886193Z"
    },
    "run_control": {
     "frozen": false,
     "read_only": false
    }
   },
   "source": [
    "## Generate Recommendations"
   ]
  },
  {
   "cell_type": "code",
   "execution_count": 12,
   "metadata": {
    "ExecuteTime": {
     "end_time": "2017-11-14T23:42:09.706049Z",
     "start_time": "2017-11-14T23:42:08.537132Z"
    },
    "run_control": {
     "frozen": false,
     "read_only": false
    }
   },
   "outputs": [
    {
     "name": "stdout",
     "output_type": "stream",
     "text": [
      "Processing batch 0 of 5...\n",
      "Processing batch 1 of 5...\n",
      "Processing batch 2 of 5...\n",
      "Processing batch 3 of 5...\n",
      "Processing batch 4 of 5...\n"
     ]
    }
   ],
   "source": [
    "recommendations = []\n",
    "recommendation_size = 10\n",
    "for z, (min_idx, max_idx) in enumerate(intervals):\n",
    "    print('Processing batch {} of {}...'.format(z, n_parts))\n",
    "    sims = cosine_similarity(matrix[min_idx: max_idx], matrix)\n",
    "\n",
    "    for idx in range(min_idx, max_idx):\n",
    "        # query_item_idx is the index of the item we want \n",
    "        # to generate recommendations for.\n",
    "        query_item_idx = idx    \n",
    "        \n",
    "        # Let's get the actual ID of the item in position `query_item_idx`\n",
    "        query_item_id = item_id_lookup[query_item_idx]\n",
    "\n",
    "        # get the indexes of the top-n items that are similar to item_idx,\n",
    "        # results may include the input item_idx.\n",
    "        # Sort the recommendations in decreasing order of similarity,\n",
    "        # and return the indexes of the top-n items where n = recommendation_size\n",
    "        sim_item_idxs = sims[query_item_idx - min_idx].argsort()[::-1][1:recommendation_size]\n",
    "        \n",
    "        # Convert those index positions to actual ID values using our lookup table.\n",
    "        sim_item_ids = [item_id_lookup[item_idx] for item_idx in sim_item_idxs]\n",
    "        \n",
    "        # Get the similarity scores for the recommendations.\n",
    "        sim_scores = sims[query_item_idx - min_idx][sim_item_idxs].tolist()\n",
    "        \n",
    "        recommendation = dict(\n",
    "            item_id=query_item_id,\n",
    "            sim_item_ids=','.join(sim_item_ids),\n",
    "            sim_scores=','.join([str(s) for s in sim_scores])\n",
    "        )\n",
    "        \n",
    "        recommendations.append(recommendation)"
   ]
  },
  {
   "cell_type": "markdown",
   "metadata": {
    "run_control": {
     "frozen": false,
     "read_only": false
    }
   },
   "source": [
    "Let's convert our recommendations to a DataFrame, because we 💚 DataFrames. The columns are:\n",
    "- `item_id`: The ID of the item.\n",
    "- `sim_item_ids`: The recommendations for the item in `item_id`\n",
    "- `sim_scores`: The similarities of the recommendations to the item in `item_id`"
   ]
  },
  {
   "cell_type": "code",
   "execution_count": 13,
   "metadata": {
    "ExecuteTime": {
     "end_time": "2017-11-14T23:42:09.729897Z",
     "start_time": "2017-11-14T23:42:09.708194Z"
    },
    "run_control": {
     "frozen": false,
     "read_only": false
    }
   },
   "outputs": [
    {
     "data": {
      "text/html": [
       "<div>\n",
       "<style scoped>\n",
       "    .dataframe tbody tr th:only-of-type {\n",
       "        vertical-align: middle;\n",
       "    }\n",
       "\n",
       "    .dataframe tbody tr th {\n",
       "        vertical-align: top;\n",
       "    }\n",
       "\n",
       "    .dataframe thead th {\n",
       "        text-align: right;\n",
       "    }\n",
       "</style>\n",
       "<table border=\"1\" class=\"dataframe\">\n",
       "  <thead>\n",
       "    <tr style=\"text-align: right;\">\n",
       "      <th></th>\n",
       "      <th>item_id</th>\n",
       "      <th>sim_item_ids</th>\n",
       "      <th>sim_scores</th>\n",
       "    </tr>\n",
       "  </thead>\n",
       "  <tbody>\n",
       "    <tr>\n",
       "      <th>0</th>\n",
       "      <td>--9e1ONYQuAa-CB_Rrw7Tw</td>\n",
       "      <td>xkVMIk_Vqh17f48ZQ_6b0w,J4CATH00YZrq8Bne2S4_cw,...</td>\n",
       "      <td>0.9934357337678983,0.9919156041485075,0.991792...</td>\n",
       "    </tr>\n",
       "    <tr>\n",
       "      <th>1</th>\n",
       "      <td>--cZ6Hhc9F7VkKXxHMVZSQ</td>\n",
       "      <td>NLEe-RzDSU-5BN6xp_WWCw,EGI8uU1uf0msVtu8XDrNIw,...</td>\n",
       "      <td>0.9167905901560954,0.8988767942795876,0.893639...</td>\n",
       "    </tr>\n",
       "    <tr>\n",
       "      <th>2</th>\n",
       "      <td>-0NhdsDJsdarxyDPR523ZQ</td>\n",
       "      <td>Dxaz8OxaadecnWol18kAtw,bsFZnc2mYyGy5cFf5EWTWg,...</td>\n",
       "      <td>0.8292243918141551,0.8219221781649738,0.820271...</td>\n",
       "    </tr>\n",
       "  </tbody>\n",
       "</table>\n",
       "</div>"
      ],
      "text/plain": [
       "                  item_id                                       sim_item_ids  \\\n",
       "0  --9e1ONYQuAa-CB_Rrw7Tw  xkVMIk_Vqh17f48ZQ_6b0w,J4CATH00YZrq8Bne2S4_cw,...   \n",
       "1  --cZ6Hhc9F7VkKXxHMVZSQ  NLEe-RzDSU-5BN6xp_WWCw,EGI8uU1uf0msVtu8XDrNIw,...   \n",
       "2  -0NhdsDJsdarxyDPR523ZQ  Dxaz8OxaadecnWol18kAtw,bsFZnc2mYyGy5cFf5EWTWg,...   \n",
       "\n",
       "                                          sim_scores  \n",
       "0  0.9934357337678983,0.9919156041485075,0.991792...  \n",
       "1  0.9167905901560954,0.8988767942795876,0.893639...  \n",
       "2  0.8292243918141551,0.8219221781649738,0.820271...  "
      ]
     },
     "metadata": {},
     "output_type": "display_data"
    }
   ],
   "source": [
    "df_recommendations = pd.DataFrame(recommendations)\n",
    "display(df_recommendations.head(3))"
   ]
  },
  {
   "cell_type": "markdown",
   "metadata": {
    "ExecuteTime": {
     "end_time": "2017-11-14T23:13:02.725868Z",
     "start_time": "2017-11-14T23:13:02.723654Z"
    },
    "run_control": {
     "frozen": false,
     "read_only": false
    }
   },
   "source": [
    "## Example Recommendations\n",
    "\n",
    "Now, given any item ID, we should be able to produce a recommendation for the top-N most similar items (e.g. restaurants) based on the words in that occur in their reviews."
   ]
  },
  {
   "cell_type": "code",
   "execution_count": 14,
   "metadata": {
    "ExecuteTime": {
     "end_time": "2017-11-14T23:42:09.790503Z",
     "start_time": "2017-11-14T23:42:09.731605Z"
    },
    "run_control": {
     "frozen": false,
     "read_only": false
    }
   },
   "outputs": [],
   "source": [
    "df_restaurants = pd.read_csv('../data/items.csv')\n",
    "\n",
    "# Let's randomly choose 3 restaurants\n",
    "random_item_ids = df_restaurants.sample(3).item_id.values.tolist()"
   ]
  },
  {
   "cell_type": "code",
   "execution_count": 15,
   "metadata": {
    "ExecuteTime": {
     "end_time": "2017-11-14T23:42:09.858005Z",
     "start_time": "2017-11-14T23:42:09.792028Z"
    },
    "run_control": {
     "frozen": false,
     "read_only": false
    }
   },
   "outputs": [
    {
     "name": "stdout",
     "output_type": "stream",
     "text": [
      "Generating recommendation for Oliva\n"
     ]
    },
    {
     "data": {
      "text/html": [
       "<div>\n",
       "<style scoped>\n",
       "    .dataframe tbody tr th:only-of-type {\n",
       "        vertical-align: middle;\n",
       "    }\n",
       "\n",
       "    .dataframe tbody tr th {\n",
       "        vertical-align: top;\n",
       "    }\n",
       "\n",
       "    .dataframe thead th {\n",
       "        text-align: right;\n",
       "    }\n",
       "</style>\n",
       "<table border=\"1\" class=\"dataframe\">\n",
       "  <thead>\n",
       "    <tr style=\"text-align: right;\">\n",
       "      <th></th>\n",
       "      <th>item_name</th>\n",
       "      <th>categories</th>\n",
       "      <th>average_rating</th>\n",
       "      <th>similarities</th>\n",
       "    </tr>\n",
       "  </thead>\n",
       "  <tbody>\n",
       "    <tr>\n",
       "      <th>2</th>\n",
       "      <td>Tappo Wine Bar &amp; Restaurant</td>\n",
       "      <td>Nightlife,Restaurants,Canadian (New),Italian,W...</td>\n",
       "      <td>3.0</td>\n",
       "      <td>0.6526109333265193</td>\n",
       "    </tr>\n",
       "    <tr>\n",
       "      <th>0</th>\n",
       "      <td>Il Fornaio</td>\n",
       "      <td>Pizza,Seafood,Italian,Restaurants</td>\n",
       "      <td>3.5</td>\n",
       "      <td>0.6566249215013181</td>\n",
       "    </tr>\n",
       "    <tr>\n",
       "      <th>8</th>\n",
       "      <td>Roma Deli 1 &amp; Restaurant</td>\n",
       "      <td>Delis,Italian,Restaurants</td>\n",
       "      <td>4.5</td>\n",
       "      <td>0.6566437152594679</td>\n",
       "    </tr>\n",
       "    <tr>\n",
       "      <th>5</th>\n",
       "      <td>Vargas Steakhouse &amp; Sushi</td>\n",
       "      <td>Asian Fusion,Restaurants,Sushi Bars,Steakhouses</td>\n",
       "      <td>3.5</td>\n",
       "      <td>0.6626549214920852</td>\n",
       "    </tr>\n",
       "    <tr>\n",
       "      <th>1</th>\n",
       "      <td>La Scala</td>\n",
       "      <td>Restaurants,Italian</td>\n",
       "      <td>4.0</td>\n",
       "      <td>0.6664917870830185</td>\n",
       "    </tr>\n",
       "    <tr>\n",
       "      <th>4</th>\n",
       "      <td>Kit Kat Italian Bar &amp; Grill</td>\n",
       "      <td>Restaurants,Italian,Mediterranean</td>\n",
       "      <td>3.5</td>\n",
       "      <td>0.6726781569185242</td>\n",
       "    </tr>\n",
       "    <tr>\n",
       "      <th>7</th>\n",
       "      <td>Vivoli</td>\n",
       "      <td>Food Delivery Services,Restaurants,Food,Italia...</td>\n",
       "      <td>3.5</td>\n",
       "      <td>0.6743097243458839</td>\n",
       "    </tr>\n",
       "    <tr>\n",
       "      <th>3</th>\n",
       "      <td>Spuntini Restaurant &amp; Bar</td>\n",
       "      <td>Restaurants,Italian</td>\n",
       "      <td>4.0</td>\n",
       "      <td>0.6753488505861416</td>\n",
       "    </tr>\n",
       "    <tr>\n",
       "      <th>6</th>\n",
       "      <td>Franco's Trattoria</td>\n",
       "      <td>Italian,Restaurants</td>\n",
       "      <td>4.5</td>\n",
       "      <td>0.7255768897501995</td>\n",
       "    </tr>\n",
       "  </tbody>\n",
       "</table>\n",
       "</div>"
      ],
      "text/plain": [
       "                     item_name  \\\n",
       "2  Tappo Wine Bar & Restaurant   \n",
       "0                   Il Fornaio   \n",
       "8     Roma Deli 1 & Restaurant   \n",
       "5    Vargas Steakhouse & Sushi   \n",
       "1                     La Scala   \n",
       "4  Kit Kat Italian Bar & Grill   \n",
       "7                       Vivoli   \n",
       "3    Spuntini Restaurant & Bar   \n",
       "6           Franco's Trattoria   \n",
       "\n",
       "                                          categories  average_rating  \\\n",
       "2  Nightlife,Restaurants,Canadian (New),Italian,W...             3.0   \n",
       "0                  Pizza,Seafood,Italian,Restaurants             3.5   \n",
       "8                          Delis,Italian,Restaurants             4.5   \n",
       "5    Asian Fusion,Restaurants,Sushi Bars,Steakhouses             3.5   \n",
       "1                                Restaurants,Italian             4.0   \n",
       "4                  Restaurants,Italian,Mediterranean             3.5   \n",
       "7  Food Delivery Services,Restaurants,Food,Italia...             3.5   \n",
       "3                                Restaurants,Italian             4.0   \n",
       "6                                Italian,Restaurants             4.5   \n",
       "\n",
       "         similarities  \n",
       "2  0.6526109333265193  \n",
       "0  0.6566249215013181  \n",
       "8  0.6566437152594679  \n",
       "5  0.6626549214920852  \n",
       "1  0.6664917870830185  \n",
       "4  0.6726781569185242  \n",
       "7  0.6743097243458839  \n",
       "3  0.6753488505861416  \n",
       "6  0.7255768897501995  "
      ]
     },
     "metadata": {},
     "output_type": "display_data"
    },
    {
     "name": "stdout",
     "output_type": "stream",
     "text": [
      "Generating recommendation for True Island BBQ\n"
     ]
    },
    {
     "data": {
      "text/html": [
       "<div>\n",
       "<style scoped>\n",
       "    .dataframe tbody tr th:only-of-type {\n",
       "        vertical-align: middle;\n",
       "    }\n",
       "\n",
       "    .dataframe tbody tr th {\n",
       "        vertical-align: top;\n",
       "    }\n",
       "\n",
       "    .dataframe thead th {\n",
       "        text-align: right;\n",
       "    }\n",
       "</style>\n",
       "<table border=\"1\" class=\"dataframe\">\n",
       "  <thead>\n",
       "    <tr style=\"text-align: right;\">\n",
       "      <th></th>\n",
       "      <th>item_name</th>\n",
       "      <th>categories</th>\n",
       "      <th>average_rating</th>\n",
       "      <th>similarities</th>\n",
       "    </tr>\n",
       "  </thead>\n",
       "  <tbody>\n",
       "    <tr>\n",
       "      <th>8</th>\n",
       "      <td>Aloha Hawaiian BBQ</td>\n",
       "      <td>Hawaiian,Barbeque,Restaurants</td>\n",
       "      <td>3.5</td>\n",
       "      <td>0.8624947820243573</td>\n",
       "    </tr>\n",
       "    <tr>\n",
       "      <th>1</th>\n",
       "      <td>Chicken Latino</td>\n",
       "      <td>Peruvian,Latin American,Restaurants</td>\n",
       "      <td>4.0</td>\n",
       "      <td>0.8629458898326695</td>\n",
       "    </tr>\n",
       "    <tr>\n",
       "      <th>2</th>\n",
       "      <td>Aloha Kitchen</td>\n",
       "      <td>Hawaiian,Restaurants</td>\n",
       "      <td>3.5</td>\n",
       "      <td>0.8637571846537101</td>\n",
       "    </tr>\n",
       "    <tr>\n",
       "      <th>6</th>\n",
       "      <td>Aloha Kitchen &amp; Bar</td>\n",
       "      <td>Hawaiian,Karaoke,Nightlife,Restaurants,Bars</td>\n",
       "      <td>3.5</td>\n",
       "      <td>0.8658845557156303</td>\n",
       "    </tr>\n",
       "    <tr>\n",
       "      <th>4</th>\n",
       "      <td>The Stockyards</td>\n",
       "      <td>Barbeque,American (Traditional),Restaurants,So...</td>\n",
       "      <td>4.0</td>\n",
       "      <td>0.8669109293801532</td>\n",
       "    </tr>\n",
       "    <tr>\n",
       "      <th>3</th>\n",
       "      <td>Memphis Championship Barbecue</td>\n",
       "      <td>Barbeque,Restaurants</td>\n",
       "      <td>3.0</td>\n",
       "      <td>0.868985194968142</td>\n",
       "    </tr>\n",
       "    <tr>\n",
       "      <th>0</th>\n",
       "      <td>Lucille's Smokehouse Bar-B-Que</td>\n",
       "      <td>Cajun/Creole,Barbeque,Smokehouse,Food,Restaurants</td>\n",
       "      <td>4.0</td>\n",
       "      <td>0.8849223445751552</td>\n",
       "    </tr>\n",
       "    <tr>\n",
       "      <th>5</th>\n",
       "      <td>Island Flavor</td>\n",
       "      <td>Restaurants,Hawaiian,Event Planning &amp; Services...</td>\n",
       "      <td>4.5</td>\n",
       "      <td>0.8893857973238805</td>\n",
       "    </tr>\n",
       "    <tr>\n",
       "      <th>7</th>\n",
       "      <td>Ohana Hawaiian BBQ</td>\n",
       "      <td>Hawaiian,Restaurants,Barbeque,Chinese,Cantonese</td>\n",
       "      <td>3.5</td>\n",
       "      <td>0.9133319786510306</td>\n",
       "    </tr>\n",
       "  </tbody>\n",
       "</table>\n",
       "</div>"
      ],
      "text/plain": [
       "                        item_name  \\\n",
       "8              Aloha Hawaiian BBQ   \n",
       "1                  Chicken Latino   \n",
       "2                   Aloha Kitchen   \n",
       "6             Aloha Kitchen & Bar   \n",
       "4                  The Stockyards   \n",
       "3   Memphis Championship Barbecue   \n",
       "0  Lucille's Smokehouse Bar-B-Que   \n",
       "5                   Island Flavor   \n",
       "7              Ohana Hawaiian BBQ   \n",
       "\n",
       "                                          categories  average_rating  \\\n",
       "8                      Hawaiian,Barbeque,Restaurants             3.5   \n",
       "1                Peruvian,Latin American,Restaurants             4.0   \n",
       "2                               Hawaiian,Restaurants             3.5   \n",
       "6        Hawaiian,Karaoke,Nightlife,Restaurants,Bars             3.5   \n",
       "4  Barbeque,American (Traditional),Restaurants,So...             4.0   \n",
       "3                               Barbeque,Restaurants             3.0   \n",
       "0  Cajun/Creole,Barbeque,Smokehouse,Food,Restaurants             4.0   \n",
       "5  Restaurants,Hawaiian,Event Planning & Services...             4.5   \n",
       "7    Hawaiian,Restaurants,Barbeque,Chinese,Cantonese             3.5   \n",
       "\n",
       "         similarities  \n",
       "8  0.8624947820243573  \n",
       "1  0.8629458898326695  \n",
       "2  0.8637571846537101  \n",
       "6  0.8658845557156303  \n",
       "4  0.8669109293801532  \n",
       "3   0.868985194968142  \n",
       "0  0.8849223445751552  \n",
       "5  0.8893857973238805  \n",
       "7  0.9133319786510306  "
      ]
     },
     "metadata": {},
     "output_type": "display_data"
    },
    {
     "name": "stdout",
     "output_type": "stream",
     "text": [
      "Generating recommendation for El Sol Mexican Art Cafe\n"
     ]
    },
    {
     "data": {
      "text/html": [
       "<div>\n",
       "<style scoped>\n",
       "    .dataframe tbody tr th:only-of-type {\n",
       "        vertical-align: middle;\n",
       "    }\n",
       "\n",
       "    .dataframe tbody tr th {\n",
       "        vertical-align: top;\n",
       "    }\n",
       "\n",
       "    .dataframe thead th {\n",
       "        text-align: right;\n",
       "    }\n",
       "</style>\n",
       "<table border=\"1\" class=\"dataframe\">\n",
       "  <thead>\n",
       "    <tr style=\"text-align: right;\">\n",
       "      <th></th>\n",
       "      <th>item_name</th>\n",
       "      <th>categories</th>\n",
       "      <th>average_rating</th>\n",
       "      <th>similarities</th>\n",
       "    </tr>\n",
       "  </thead>\n",
       "  <tbody>\n",
       "    <tr>\n",
       "      <th>5</th>\n",
       "      <td>Cafe Costa Rica</td>\n",
       "      <td>Latin American,Caribbean,Restaurants</td>\n",
       "      <td>3.5</td>\n",
       "      <td>0.9008344878904984</td>\n",
       "    </tr>\n",
       "    <tr>\n",
       "      <th>2</th>\n",
       "      <td>Taqueria Guadalajara</td>\n",
       "      <td>Mexican,Restaurants</td>\n",
       "      <td>4.0</td>\n",
       "      <td>0.9010855670179581</td>\n",
       "    </tr>\n",
       "    <tr>\n",
       "      <th>6</th>\n",
       "      <td>El Trompo Taco Bar</td>\n",
       "      <td>Mexican,Restaurants</td>\n",
       "      <td>4.0</td>\n",
       "      <td>0.9016792712583106</td>\n",
       "    </tr>\n",
       "    <tr>\n",
       "      <th>1</th>\n",
       "      <td>Three Amigos Mexican Restaurant and Cantina</td>\n",
       "      <td>Restaurants,Mexican</td>\n",
       "      <td>4.0</td>\n",
       "      <td>0.9052276194699012</td>\n",
       "    </tr>\n",
       "    <tr>\n",
       "      <th>7</th>\n",
       "      <td>Jose Cuervo Tequileria</td>\n",
       "      <td>Mexican,Restaurants</td>\n",
       "      <td>2.0</td>\n",
       "      <td>0.9089910086545344</td>\n",
       "    </tr>\n",
       "    <tr>\n",
       "      <th>0</th>\n",
       "      <td>Pink Taco</td>\n",
       "      <td>Mexican,Restaurants</td>\n",
       "      <td>3.5</td>\n",
       "      <td>0.9160802800245356</td>\n",
       "    </tr>\n",
       "    <tr>\n",
       "      <th>4</th>\n",
       "      <td>Diego Mexican Cuisine</td>\n",
       "      <td>Nightlife,Restaurants,Mexican</td>\n",
       "      <td>3.5</td>\n",
       "      <td>0.9165370508591864</td>\n",
       "    </tr>\n",
       "    <tr>\n",
       "      <th>3</th>\n",
       "      <td>Zócalo Tequilería</td>\n",
       "      <td>Cocktail Bars,Bars,Mexican,Restaurants,Nightlife</td>\n",
       "      <td>2.5</td>\n",
       "      <td>0.9255605248438642</td>\n",
       "    </tr>\n",
       "    <tr>\n",
       "      <th>8</th>\n",
       "      <td>Tacos El Asador</td>\n",
       "      <td>Latin American,Mexican,Restaurants</td>\n",
       "      <td>4.0</td>\n",
       "      <td>0.9313126015979493</td>\n",
       "    </tr>\n",
       "  </tbody>\n",
       "</table>\n",
       "</div>"
      ],
      "text/plain": [
       "                                     item_name  \\\n",
       "5                              Cafe Costa Rica   \n",
       "2                         Taqueria Guadalajara   \n",
       "6                           El Trompo Taco Bar   \n",
       "1  Three Amigos Mexican Restaurant and Cantina   \n",
       "7                       Jose Cuervo Tequileria   \n",
       "0                                    Pink Taco   \n",
       "4                        Diego Mexican Cuisine   \n",
       "3                            Zócalo Tequilería   \n",
       "8                              Tacos El Asador   \n",
       "\n",
       "                                         categories  average_rating  \\\n",
       "5              Latin American,Caribbean,Restaurants             3.5   \n",
       "2                               Mexican,Restaurants             4.0   \n",
       "6                               Mexican,Restaurants             4.0   \n",
       "1                               Restaurants,Mexican             4.0   \n",
       "7                               Mexican,Restaurants             2.0   \n",
       "0                               Mexican,Restaurants             3.5   \n",
       "4                     Nightlife,Restaurants,Mexican             3.5   \n",
       "3  Cocktail Bars,Bars,Mexican,Restaurants,Nightlife             2.5   \n",
       "8                Latin American,Mexican,Restaurants             4.0   \n",
       "\n",
       "         similarities  \n",
       "5  0.9008344878904984  \n",
       "2  0.9010855670179581  \n",
       "6  0.9016792712583106  \n",
       "1  0.9052276194699012  \n",
       "7  0.9089910086545344  \n",
       "0  0.9160802800245356  \n",
       "4  0.9165370508591864  \n",
       "3  0.9255605248438642  \n",
       "8  0.9313126015979493  "
      ]
     },
     "metadata": {},
     "output_type": "display_data"
    }
   ],
   "source": [
    "for item_id in random_item_ids:\n",
    "    print('Generating recommendation for {}'.format(\n",
    "        df_restaurants.query('item_id == @item_id').item_name.values[0]\n",
    "    ))\n",
    "    row = df_recommendations.query('item_id == @item_id')\n",
    "    df_mlt = pd.DataFrame({\n",
    "        'item_id': row.sim_item_ids.values[0].split(','),\n",
    "        'similarities': row.sim_scores.values[0].split(',')\n",
    "    })\n",
    "\n",
    "    columns_to_show = ['item_name', 'categories', 'average_rating', 'similarities']\n",
    "    df_biz_info = pd.merge(df_restaurants, df_mlt, how='inner')\n",
    "    df_biz_info = df_biz_info[columns_to_show].sort_values(\n",
    "        ['similarities', 'average_rating']\n",
    "    )\n",
    "    display(df_biz_info)\n",
    "\n",
    "    "
   ]
  },
  {
   "cell_type": "code",
   "execution_count": null,
   "metadata": {
    "run_control": {
     "frozen": false,
     "read_only": false
    }
   },
   "outputs": [],
   "source": []
  }
 ],
 "metadata": {
  "kernelspec": {
   "display_name": "Python 3",
   "language": "python",
   "name": "python3"
  },
  "language_info": {
   "codemirror_mode": {
    "name": "ipython",
    "version": 3
   },
   "file_extension": ".py",
   "mimetype": "text/x-python",
   "name": "python",
   "nbconvert_exporter": "python",
   "pygments_lexer": "ipython3",
   "version": "3.6.2"
  }
 },
 "nbformat": 4,
 "nbformat_minor": 2
}
