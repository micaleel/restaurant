{
 "cells": [
  {
   "cell_type": "markdown",
   "metadata": {
    "run_control": {
     "frozen": false,
     "read_only": false
    }
   },
   "source": [
    "# 03 - Personalized Content-Based Recommender\n",
    "\n",
    "This code build on our previous notebooks to build a personalized content-based recommender. Briefly, a personalized recommender is one which provides suggestions that are tailored to the user --- i.e. every user gets a different set of recommendations based on their preferences. In the case of a review-based recommender, the preferences of a user can be the words that user mention in their review. That way, if the user constantly talks about _room service_, it makes sense to recommend highly rated hotels that are associated with reviews about _room service_.\n",
    "\n",
    "\n",
    "<blockquote>\n",
    "**NOTE**: At this point, you should've ran the previous notebook to create user and item profiles --- these are prerequisites to this notebook.\n",
    "</blockquote>\n",
    "\n",
    "A non-personalized recommender, on the other hand, suggests the same set of items (e.g. restaurants) to all users. This means that the recommendations are not tailored to the user's preferences.\n",
    "\n",
    "This code in this notebook was run with the following configuration:\n",
    "\n",
    "    pd.__version__: 0.21.0"
   ]
  },
  {
   "cell_type": "code",
   "execution_count": 1,
   "metadata": {
    "ExecuteTime": {
     "end_time": "2017-11-15T00:08:16.787122Z",
     "start_time": "2017-11-15T00:08:15.998519Z"
    },
    "run_control": {
     "frozen": false,
     "read_only": false
    }
   },
   "outputs": [],
   "source": [
    "import os\n",
    "\n",
    "import pandas as pd\n",
    "from pprint import pprint\n",
    "from random import choice\n",
    "from sklearn.decomposition import TruncatedSVD\n",
    "from sklearn.feature_extraction.text import TfidfVectorizer\n",
    "\n",
    "from sklearn.metrics.pairwise import cosine_similarity"
   ]
  },
  {
   "cell_type": "markdown",
   "metadata": {
    "run_control": {
     "frozen": false,
     "read_only": false
    }
   },
   "source": [
    "Load reviews from disk"
   ]
  },
  {
   "cell_type": "code",
   "execution_count": 2,
   "metadata": {
    "ExecuteTime": {
     "end_time": "2017-11-15T00:08:17.245532Z",
     "start_time": "2017-11-15T00:08:16.788707Z"
    }
   },
   "outputs": [
    {
     "name": "stdout",
     "output_type": "stream",
     "text": [
      "Number of users: 11,165\n"
     ]
    }
   ],
   "source": [
    "df_user_reviews = pd.read_csv('../data/user-reviews.csv')\n",
    "df_item_reviews = pd.read_csv('../data/item-reviews.csv')\n",
    "\n",
    "print('Number of users: {:,}'.format(len(df_user_reviews)))"
   ]
  },
  {
   "cell_type": "markdown",
   "metadata": {},
   "source": [
    "## Create Bag-of-Words Representation\n",
    "\n",
    "Next, using the newly created dataframe (i.e. `df_item_reviews`), we create TF-IDF matrix where the rows represent items and the columns represent the words mentioned in the all the reviews of the item."
   ]
  },
  {
   "cell_type": "code",
   "execution_count": 3,
   "metadata": {
    "ExecuteTime": {
     "end_time": "2017-11-15T00:08:20.485538Z",
     "start_time": "2017-11-15T00:08:17.247382Z"
    }
   },
   "outputs": [
    {
     "name": "stdout",
     "output_type": "stream",
     "text": [
      "Item-Word TF-IDF matrix created with dimensions (4174, 49225)\n"
     ]
    }
   ],
   "source": [
    "vectorizer = TfidfVectorizer()\n",
    "item_word_matrix = vectorizer.fit_transform(df_item_reviews.review_text)\n",
    "print('Item-Word TF-IDF matrix created with dimensions', item_word_matrix.shape)"
   ]
  },
  {
   "cell_type": "code",
   "execution_count": 4,
   "metadata": {
    "ExecuteTime": {
     "end_time": "2017-11-15T00:08:23.801657Z",
     "start_time": "2017-11-15T00:08:20.487094Z"
    }
   },
   "outputs": [
    {
     "name": "stdout",
     "output_type": "stream",
     "text": [
      "User-Word TF-IDF matrix created with dimensions (11165, 49225)\n"
     ]
    }
   ],
   "source": [
    "user_word_matrix = vectorizer.transform(df_user_reviews.review_text)\n",
    "print('User-Word TF-IDF matrix created with dimensions', user_word_matrix.shape)"
   ]
  },
  {
   "cell_type": "markdown",
   "metadata": {},
   "source": [
    "Let's also create a lookup for item IDs. Essentially, it's a dictionary (or a lookup table) where \n",
    "\n",
    "- the **keys** correspond to the row value of the item in the `df_item_reviews` dataframe, and \n",
    "- the **values** correspond to the actualy ID of the item (i.e. the restaurant)"
   ]
  },
  {
   "cell_type": "code",
   "execution_count": 5,
   "metadata": {
    "ExecuteTime": {
     "end_time": "2017-11-15T00:08:23.818712Z",
     "start_time": "2017-11-15T00:08:23.803246Z"
    }
   },
   "outputs": [
    {
     "name": "stdout",
     "output_type": "stream",
     "text": [
      "[(0, '--9e1ONYQuAa-CB_Rrw7Tw'),\n",
      " (1, '--cZ6Hhc9F7VkKXxHMVZSQ'),\n",
      " (2, '-0NhdsDJsdarxyDPR523ZQ')]\n",
      "[(0, '--8g9UaBe0xQ4FD0q34h_A'),\n",
      " (1, '--KQJPdrU0Md97DiOliDzw'),\n",
      " (2, '-0S_XaK3Q_Mesal2Unta2w')]\n",
      "[('--8g9UaBe0xQ4FD0q34h_A', 0),\n",
      " ('--KQJPdrU0Md97DiOliDzw', 1),\n",
      " ('-0S_XaK3Q_Mesal2Unta2w', 2)]\n"
     ]
    }
   ],
   "source": [
    "item_id_lookup = df_item_reviews.item_id.to_dict()  \n",
    "user_id_lookup = df_user_reviews.user_id.to_dict()  \n",
    "\n",
    "# Create a reverse lookup for finding a row location\n",
    "# based on any given user ID\n",
    "user_idx_lookup = {v:k for k,v in user_id_lookup.items()}\n",
    "\n",
    "pprint(list(item_id_lookup.items())[:3])\n",
    "pprint(list(user_id_lookup.items())[:3])\n",
    "pprint(list(user_idx_lookup.items())[:3])"
   ]
  },
  {
   "cell_type": "markdown",
   "metadata": {},
   "source": [
    "## Generate Recommendations\n",
    "\n",
    "Compute a pairwise similarity matrix where \n",
    "- the rows correspond to users, and \n",
    "- the columns correspond to items\n",
    "\n",
    "This can be an expensive process, especially if the matrix dimensions are high."
   ]
  },
  {
   "cell_type": "code",
   "execution_count": 6,
   "metadata": {
    "ExecuteTime": {
     "end_time": "2017-11-15T00:08:29.409956Z",
     "start_time": "2017-11-15T00:08:23.820576Z"
    }
   },
   "outputs": [
    {
     "name": "stdout",
     "output_type": "stream",
     "text": [
      "Similarity matrix: (11165, 4174)\n"
     ]
    }
   ],
   "source": [
    "similarity_matrix = cosine_similarity(user_word_matrix, item_word_matrix)\n",
    "print('Similarity matrix:', similarity_matrix.shape)"
   ]
  },
  {
   "cell_type": "code",
   "execution_count": 7,
   "metadata": {
    "ExecuteTime": {
     "end_time": "2017-11-15T00:08:32.428633Z",
     "start_time": "2017-11-15T00:08:29.412074Z"
    }
   },
   "outputs": [],
   "source": [
    "recommendations = []\n",
    "recommendation_size = 10\n",
    "\n",
    "for user_id in df_user_reviews.user_id.unique():\n",
    "    user_idx = user_idx_lookup[user_id]\n",
    "    recommended_items = similarity_matrix[user_idx]\n",
    "\n",
    "    # Sort the recommendations in decreasing order of similarity,\n",
    "    # and return the indexes of the top-n items where n = recommendation_size\n",
    "    recommended_items_idxs = recommended_items.argsort()[::-1][1:recommendation_size]\n",
    "    \n",
    "    # Convert those index positions to actual ID values using our lookup table.\n",
    "    recommended_items_ids = [item_id_lookup[item_idx] \n",
    "                             for item_idx in recommended_items_idxs]\n",
    "    \n",
    "    # Get the similarity scores for the recommendations.\n",
    "    sim_scores = similarity_matrix[user_idx][recommended_items_idxs].tolist()\n",
    "\n",
    "    recommendation = dict(\n",
    "        user_id=user_id,\n",
    "        sim_item_ids=','.join(recommended_items_ids),\n",
    "        sim_scores=','.join([str(s) for s in sim_scores])\n",
    "    )\n",
    "    recommendations.append(recommendation)"
   ]
  },
  {
   "cell_type": "markdown",
   "metadata": {},
   "source": [
    "Let's convert our recommendations to a DataFrame, because we 💚 DataFrames. The columns are:\n",
    "- `item_id`: The ID of the item.\n",
    "- `sim_item_ids`: The recommendations for the item in `item_id`\n",
    "- `sim_scores`: The similarities of the recommendations to the item in `item_id`"
   ]
  },
  {
   "cell_type": "code",
   "execution_count": 8,
   "metadata": {
    "ExecuteTime": {
     "end_time": "2017-11-15T00:08:32.460962Z",
     "start_time": "2017-11-15T00:08:32.430371Z"
    }
   },
   "outputs": [
    {
     "data": {
      "text/html": [
       "<div>\n",
       "<style scoped>\n",
       "    .dataframe tbody tr th:only-of-type {\n",
       "        vertical-align: middle;\n",
       "    }\n",
       "\n",
       "    .dataframe tbody tr th {\n",
       "        vertical-align: top;\n",
       "    }\n",
       "\n",
       "    .dataframe thead th {\n",
       "        text-align: right;\n",
       "    }\n",
       "</style>\n",
       "<table border=\"1\" class=\"dataframe\">\n",
       "  <thead>\n",
       "    <tr style=\"text-align: right;\">\n",
       "      <th></th>\n",
       "      <th>sim_item_ids</th>\n",
       "      <th>sim_scores</th>\n",
       "      <th>user_id</th>\n",
       "    </tr>\n",
       "  </thead>\n",
       "  <tbody>\n",
       "    <tr>\n",
       "      <th>0</th>\n",
       "      <td>dYMhfzyZyklXELmYq_wfKg,aT_SsfZ6GQgJGyuIv1Hapw,...</td>\n",
       "      <td>0.34118541546198344,0.3106378646633447,0.30784...</td>\n",
       "      <td>--8g9UaBe0xQ4FD0q34h_A</td>\n",
       "    </tr>\n",
       "    <tr>\n",
       "      <th>1</th>\n",
       "      <td>07gh-AImcEcWQ2bew-jprg,Po0QGzgwFrfnGJEi_akCjA,...</td>\n",
       "      <td>0.4910988867424457,0.48006443950069755,0.46310...</td>\n",
       "      <td>--KQJPdrU0Md97DiOliDzw</td>\n",
       "    </tr>\n",
       "    <tr>\n",
       "      <th>2</th>\n",
       "      <td>XUA7xA7myMaCuN6G3xYdIA,hroo5nOO8b9QhHX0GLg7oA,...</td>\n",
       "      <td>0.5710409413940867,0.5708601179783902,0.568313...</td>\n",
       "      <td>-0S_XaK3Q_Mesal2Unta2w</td>\n",
       "    </tr>\n",
       "  </tbody>\n",
       "</table>\n",
       "</div>"
      ],
      "text/plain": [
       "                                        sim_item_ids  \\\n",
       "0  dYMhfzyZyklXELmYq_wfKg,aT_SsfZ6GQgJGyuIv1Hapw,...   \n",
       "1  07gh-AImcEcWQ2bew-jprg,Po0QGzgwFrfnGJEi_akCjA,...   \n",
       "2  XUA7xA7myMaCuN6G3xYdIA,hroo5nOO8b9QhHX0GLg7oA,...   \n",
       "\n",
       "                                          sim_scores                 user_id  \n",
       "0  0.34118541546198344,0.3106378646633447,0.30784...  --8g9UaBe0xQ4FD0q34h_A  \n",
       "1  0.4910988867424457,0.48006443950069755,0.46310...  --KQJPdrU0Md97DiOliDzw  \n",
       "2  0.5710409413940867,0.5708601179783902,0.568313...  -0S_XaK3Q_Mesal2Unta2w  "
      ]
     },
     "metadata": {},
     "output_type": "display_data"
    }
   ],
   "source": [
    "df_recommendations = pd.DataFrame(recommendations)\n",
    "display(df_recommendations.head(3))"
   ]
  },
  {
   "cell_type": "markdown",
   "metadata": {},
   "source": [
    "## Example Recommendations\n",
    "\n",
    "Now, given any item ID, we should be able to produce a recommendation for the top-N most similar items (e.g. restaurants) based on the words in that occur in their reviews."
   ]
  },
  {
   "cell_type": "code",
   "execution_count": 9,
   "metadata": {
    "ExecuteTime": {
     "end_time": "2017-11-15T00:08:32.533183Z",
     "start_time": "2017-11-15T00:08:32.464042Z"
    }
   },
   "outputs": [],
   "source": [
    "df_restaurants = pd.read_csv('../data/items.csv')\n",
    "\n",
    "# Let's randomly choose 3 users\n",
    "random_user_ids = df_user_reviews.sample(3).user_id.values.tolist()"
   ]
  },
  {
   "cell_type": "code",
   "execution_count": 10,
   "metadata": {
    "ExecuteTime": {
     "end_time": "2017-11-15T00:08:32.607247Z",
     "start_time": "2017-11-15T00:08:32.534684Z"
    }
   },
   "outputs": [
    {
     "name": "stdout",
     "output_type": "stream",
     "text": [
      "Generating recommendation for Uea_V6r3pzynOXm_NoNBBw\n"
     ]
    },
    {
     "data": {
      "text/html": [
       "<div>\n",
       "<style scoped>\n",
       "    .dataframe tbody tr th:only-of-type {\n",
       "        vertical-align: middle;\n",
       "    }\n",
       "\n",
       "    .dataframe tbody tr th {\n",
       "        vertical-align: top;\n",
       "    }\n",
       "\n",
       "    .dataframe thead th {\n",
       "        text-align: right;\n",
       "    }\n",
       "</style>\n",
       "<table border=\"1\" class=\"dataframe\">\n",
       "  <thead>\n",
       "    <tr style=\"text-align: right;\">\n",
       "      <th></th>\n",
       "      <th>item_name</th>\n",
       "      <th>categories</th>\n",
       "      <th>average_rating</th>\n",
       "      <th>similarities</th>\n",
       "    </tr>\n",
       "  </thead>\n",
       "  <tbody>\n",
       "    <tr>\n",
       "      <th>2</th>\n",
       "      <td>First Food &amp; Bar</td>\n",
       "      <td>American (New),American (Traditional),Nightlif...</td>\n",
       "      <td>3.5</td>\n",
       "      <td>0.6572261666326642</td>\n",
       "    </tr>\n",
       "    <tr>\n",
       "      <th>0</th>\n",
       "      <td>Tom Colicchio's Craftsteak</td>\n",
       "      <td>Steakhouses,Restaurants,Cheesesteaks,Food,Amer...</td>\n",
       "      <td>4.0</td>\n",
       "      <td>0.6580692134279444</td>\n",
       "    </tr>\n",
       "    <tr>\n",
       "      <th>8</th>\n",
       "      <td>TAO Asian Bistro</td>\n",
       "      <td>Asian Fusion,Bars,Restaurants,Lounges,Nightlife</td>\n",
       "      <td>3.5</td>\n",
       "      <td>0.6598220355972241</td>\n",
       "    </tr>\n",
       "    <tr>\n",
       "      <th>3</th>\n",
       "      <td>MIX</td>\n",
       "      <td>Bars,French,Lounges,American (New),Nightlife,R...</td>\n",
       "      <td>4.0</td>\n",
       "      <td>0.6605622070949438</td>\n",
       "    </tr>\n",
       "    <tr>\n",
       "      <th>4</th>\n",
       "      <td>Emeril's New Orleans Fish House</td>\n",
       "      <td>Restaurants,Seafood,American (New)</td>\n",
       "      <td>3.5</td>\n",
       "      <td>0.6609762664729969</td>\n",
       "    </tr>\n",
       "    <tr>\n",
       "      <th>7</th>\n",
       "      <td>Hash House A Go Go</td>\n",
       "      <td>Breakfast &amp; Brunch,Restaurants,American (New)</td>\n",
       "      <td>4.0</td>\n",
       "      <td>0.664533117190942</td>\n",
       "    </tr>\n",
       "    <tr>\n",
       "      <th>1</th>\n",
       "      <td>Mon Ami Gabi</td>\n",
       "      <td>Restaurants,Steakhouses,French,Breakfast &amp; Brunch</td>\n",
       "      <td>4.0</td>\n",
       "      <td>0.6656831996134304</td>\n",
       "    </tr>\n",
       "    <tr>\n",
       "      <th>5</th>\n",
       "      <td>Olives</td>\n",
       "      <td>Bars,American (New),Restaurants,Nightlife,Medi...</td>\n",
       "      <td>4.0</td>\n",
       "      <td>0.66842145655084</td>\n",
       "    </tr>\n",
       "    <tr>\n",
       "      <th>6</th>\n",
       "      <td>Lotus of Siam</td>\n",
       "      <td>Automotive,Car Dealers,Restaurants,Thai,Bars,W...</td>\n",
       "      <td>4.0</td>\n",
       "      <td>0.6991324083949937</td>\n",
       "    </tr>\n",
       "  </tbody>\n",
       "</table>\n",
       "</div>"
      ],
      "text/plain": [
       "                         item_name  \\\n",
       "2                 First Food & Bar   \n",
       "0       Tom Colicchio's Craftsteak   \n",
       "8                 TAO Asian Bistro   \n",
       "3                              MIX   \n",
       "4  Emeril's New Orleans Fish House   \n",
       "7               Hash House A Go Go   \n",
       "1                     Mon Ami Gabi   \n",
       "5                           Olives   \n",
       "6                    Lotus of Siam   \n",
       "\n",
       "                                          categories  average_rating  \\\n",
       "2  American (New),American (Traditional),Nightlif...             3.5   \n",
       "0  Steakhouses,Restaurants,Cheesesteaks,Food,Amer...             4.0   \n",
       "8    Asian Fusion,Bars,Restaurants,Lounges,Nightlife             3.5   \n",
       "3  Bars,French,Lounges,American (New),Nightlife,R...             4.0   \n",
       "4                 Restaurants,Seafood,American (New)             3.5   \n",
       "7      Breakfast & Brunch,Restaurants,American (New)             4.0   \n",
       "1  Restaurants,Steakhouses,French,Breakfast & Brunch             4.0   \n",
       "5  Bars,American (New),Restaurants,Nightlife,Medi...             4.0   \n",
       "6  Automotive,Car Dealers,Restaurants,Thai,Bars,W...             4.0   \n",
       "\n",
       "         similarities  \n",
       "2  0.6572261666326642  \n",
       "0  0.6580692134279444  \n",
       "8  0.6598220355972241  \n",
       "3  0.6605622070949438  \n",
       "4  0.6609762664729969  \n",
       "7   0.664533117190942  \n",
       "1  0.6656831996134304  \n",
       "5    0.66842145655084  \n",
       "6  0.6991324083949937  "
      ]
     },
     "metadata": {},
     "output_type": "display_data"
    },
    {
     "name": "stdout",
     "output_type": "stream",
     "text": [
      "Generating recommendation for 7M_JCs91AO4BkXpbpG1VtQ\n"
     ]
    },
    {
     "data": {
      "text/html": [
       "<div>\n",
       "<style scoped>\n",
       "    .dataframe tbody tr th:only-of-type {\n",
       "        vertical-align: middle;\n",
       "    }\n",
       "\n",
       "    .dataframe tbody tr th {\n",
       "        vertical-align: top;\n",
       "    }\n",
       "\n",
       "    .dataframe thead th {\n",
       "        text-align: right;\n",
       "    }\n",
       "</style>\n",
       "<table border=\"1\" class=\"dataframe\">\n",
       "  <thead>\n",
       "    <tr style=\"text-align: right;\">\n",
       "      <th></th>\n",
       "      <th>item_name</th>\n",
       "      <th>categories</th>\n",
       "      <th>average_rating</th>\n",
       "      <th>similarities</th>\n",
       "    </tr>\n",
       "  </thead>\n",
       "  <tbody>\n",
       "    <tr>\n",
       "      <th>6</th>\n",
       "      <td>ARIA Café</td>\n",
       "      <td>Restaurants,Cafes,American (New),Breakfast &amp; B...</td>\n",
       "      <td>2.5</td>\n",
       "      <td>0.1399665924255301</td>\n",
       "    </tr>\n",
       "    <tr>\n",
       "      <th>1</th>\n",
       "      <td>Ichiza</td>\n",
       "      <td>Japanese,Restaurants</td>\n",
       "      <td>4.0</td>\n",
       "      <td>0.14259439315960487</td>\n",
       "    </tr>\n",
       "    <tr>\n",
       "      <th>4</th>\n",
       "      <td>Capo's Italian Cuisine</td>\n",
       "      <td>Italian,Restaurants</td>\n",
       "      <td>4.0</td>\n",
       "      <td>0.1461330292879036</td>\n",
       "    </tr>\n",
       "    <tr>\n",
       "      <th>8</th>\n",
       "      <td>Border Grill</td>\n",
       "      <td>Tapas/Small Plates,Breakfast &amp; Brunch,Mexican,...</td>\n",
       "      <td>4.0</td>\n",
       "      <td>0.15034579717585644</td>\n",
       "    </tr>\n",
       "    <tr>\n",
       "      <th>7</th>\n",
       "      <td>The Peppermill Restaurant &amp; Fireside Lounge</td>\n",
       "      <td>Lounges,Nightlife,Restaurants,Breakfast &amp; Brun...</td>\n",
       "      <td>4.0</td>\n",
       "      <td>0.15211361955107675</td>\n",
       "    </tr>\n",
       "    <tr>\n",
       "      <th>2</th>\n",
       "      <td>Firefly</td>\n",
       "      <td>Tapas Bars,Tapas/Small Plates,Restaurants</td>\n",
       "      <td>4.5</td>\n",
       "      <td>0.15550874799082245</td>\n",
       "    </tr>\n",
       "    <tr>\n",
       "      <th>3</th>\n",
       "      <td>La Feria</td>\n",
       "      <td>Restaurants,Peruvian,Latin American</td>\n",
       "      <td>4.0</td>\n",
       "      <td>0.15758213837880056</td>\n",
       "    </tr>\n",
       "    <tr>\n",
       "      <th>5</th>\n",
       "      <td>El Gordo Fine Foods</td>\n",
       "      <td>Mexican,Restaurants,Bakeries,Latin American,Fo...</td>\n",
       "      <td>4.0</td>\n",
       "      <td>0.1588149089435419</td>\n",
       "    </tr>\n",
       "    <tr>\n",
       "      <th>0</th>\n",
       "      <td>Jumbo Empanadas</td>\n",
       "      <td>Restaurants,Latin American</td>\n",
       "      <td>4.0</td>\n",
       "      <td>0.2533590288562571</td>\n",
       "    </tr>\n",
       "  </tbody>\n",
       "</table>\n",
       "</div>"
      ],
      "text/plain": [
       "                                     item_name  \\\n",
       "6                                    ARIA Café   \n",
       "1                                       Ichiza   \n",
       "4                       Capo's Italian Cuisine   \n",
       "8                                 Border Grill   \n",
       "7  The Peppermill Restaurant & Fireside Lounge   \n",
       "2                                      Firefly   \n",
       "3                                     La Feria   \n",
       "5                          El Gordo Fine Foods   \n",
       "0                              Jumbo Empanadas   \n",
       "\n",
       "                                          categories  average_rating  \\\n",
       "6  Restaurants,Cafes,American (New),Breakfast & B...             2.5   \n",
       "1                               Japanese,Restaurants             4.0   \n",
       "4                                Italian,Restaurants             4.0   \n",
       "8  Tapas/Small Plates,Breakfast & Brunch,Mexican,...             4.0   \n",
       "7  Lounges,Nightlife,Restaurants,Breakfast & Brun...             4.0   \n",
       "2          Tapas Bars,Tapas/Small Plates,Restaurants             4.5   \n",
       "3                Restaurants,Peruvian,Latin American             4.0   \n",
       "5  Mexican,Restaurants,Bakeries,Latin American,Fo...             4.0   \n",
       "0                         Restaurants,Latin American             4.0   \n",
       "\n",
       "          similarities  \n",
       "6   0.1399665924255301  \n",
       "1  0.14259439315960487  \n",
       "4   0.1461330292879036  \n",
       "8  0.15034579717585644  \n",
       "7  0.15211361955107675  \n",
       "2  0.15550874799082245  \n",
       "3  0.15758213837880056  \n",
       "5   0.1588149089435419  \n",
       "0   0.2533590288562571  "
      ]
     },
     "metadata": {},
     "output_type": "display_data"
    },
    {
     "name": "stdout",
     "output_type": "stream",
     "text": [
      "Generating recommendation for ylvQgW8feJeSQTaugGSrfw\n"
     ]
    },
    {
     "data": {
      "text/html": [
       "<div>\n",
       "<style scoped>\n",
       "    .dataframe tbody tr th:only-of-type {\n",
       "        vertical-align: middle;\n",
       "    }\n",
       "\n",
       "    .dataframe tbody tr th {\n",
       "        vertical-align: top;\n",
       "    }\n",
       "\n",
       "    .dataframe thead th {\n",
       "        text-align: right;\n",
       "    }\n",
       "</style>\n",
       "<table border=\"1\" class=\"dataframe\">\n",
       "  <thead>\n",
       "    <tr style=\"text-align: right;\">\n",
       "      <th></th>\n",
       "      <th>item_name</th>\n",
       "      <th>categories</th>\n",
       "      <th>average_rating</th>\n",
       "      <th>similarities</th>\n",
       "    </tr>\n",
       "  </thead>\n",
       "  <tbody>\n",
       "    <tr>\n",
       "      <th>7</th>\n",
       "      <td>Tamba</td>\n",
       "      <td>Halal,Gluten-Free,Indian,Restaurants,Pakistani...</td>\n",
       "      <td>3.5</td>\n",
       "      <td>0.40263033750030386</td>\n",
       "    </tr>\n",
       "    <tr>\n",
       "      <th>2</th>\n",
       "      <td>Copper</td>\n",
       "      <td>Indian,Restaurants,Pakistani</td>\n",
       "      <td>4.0</td>\n",
       "      <td>0.4145634675478562</td>\n",
       "    </tr>\n",
       "    <tr>\n",
       "      <th>1</th>\n",
       "      <td>Namaste Indian Cuisine</td>\n",
       "      <td>Indian,Restaurants</td>\n",
       "      <td>4.0</td>\n",
       "      <td>0.4169828113397984</td>\n",
       "    </tr>\n",
       "    <tr>\n",
       "      <th>8</th>\n",
       "      <td>Samosa Factory</td>\n",
       "      <td>Indian,Vegan,Restaurants,Vegetarian</td>\n",
       "      <td>4.0</td>\n",
       "      <td>0.42613981697894043</td>\n",
       "    </tr>\n",
       "    <tr>\n",
       "      <th>6</th>\n",
       "      <td>Mount Everest India's Cuisine</td>\n",
       "      <td>Indian,Restaurants</td>\n",
       "      <td>4.5</td>\n",
       "      <td>0.4275723860717317</td>\n",
       "    </tr>\n",
       "    <tr>\n",
       "      <th>5</th>\n",
       "      <td>India Garden</td>\n",
       "      <td>Pakistani,Indian,Restaurants</td>\n",
       "      <td>3.5</td>\n",
       "      <td>0.43154802480161814</td>\n",
       "    </tr>\n",
       "    <tr>\n",
       "      <th>4</th>\n",
       "      <td>Tamarind</td>\n",
       "      <td>Restaurants,Indian</td>\n",
       "      <td>4.0</td>\n",
       "      <td>0.45840655783495216</td>\n",
       "    </tr>\n",
       "    <tr>\n",
       "      <th>3</th>\n",
       "      <td>Origin India Restaurant &amp; Bar</td>\n",
       "      <td>Restaurants,Pakistani,Indian,Nightlife,Vegetar...</td>\n",
       "      <td>3.5</td>\n",
       "      <td>0.4648677720521537</td>\n",
       "    </tr>\n",
       "    <tr>\n",
       "      <th>0</th>\n",
       "      <td>Mint Indian Bistro</td>\n",
       "      <td>Halal,Restaurants,Indian,Vegan</td>\n",
       "      <td>4.0</td>\n",
       "      <td>0.465648745262431</td>\n",
       "    </tr>\n",
       "  </tbody>\n",
       "</table>\n",
       "</div>"
      ],
      "text/plain": [
       "                       item_name  \\\n",
       "7                          Tamba   \n",
       "2                         Copper   \n",
       "1         Namaste Indian Cuisine   \n",
       "8                 Samosa Factory   \n",
       "6  Mount Everest India's Cuisine   \n",
       "5                   India Garden   \n",
       "4                       Tamarind   \n",
       "3  Origin India Restaurant & Bar   \n",
       "0             Mint Indian Bistro   \n",
       "\n",
       "                                          categories  average_rating  \\\n",
       "7  Halal,Gluten-Free,Indian,Restaurants,Pakistani...             3.5   \n",
       "2                       Indian,Restaurants,Pakistani             4.0   \n",
       "1                                 Indian,Restaurants             4.0   \n",
       "8                Indian,Vegan,Restaurants,Vegetarian             4.0   \n",
       "6                                 Indian,Restaurants             4.5   \n",
       "5                       Pakistani,Indian,Restaurants             3.5   \n",
       "4                                 Restaurants,Indian             4.0   \n",
       "3  Restaurants,Pakistani,Indian,Nightlife,Vegetar...             3.5   \n",
       "0                     Halal,Restaurants,Indian,Vegan             4.0   \n",
       "\n",
       "          similarities  \n",
       "7  0.40263033750030386  \n",
       "2   0.4145634675478562  \n",
       "1   0.4169828113397984  \n",
       "8  0.42613981697894043  \n",
       "6   0.4275723860717317  \n",
       "5  0.43154802480161814  \n",
       "4  0.45840655783495216  \n",
       "3   0.4648677720521537  \n",
       "0    0.465648745262431  "
      ]
     },
     "metadata": {},
     "output_type": "display_data"
    }
   ],
   "source": [
    "for user_id in random_user_ids:\n",
    "    print('Generating recommendation for', user_id)\n",
    "    row = df_recommendations.query('user_id == @user_id')\n",
    "    df_mlt = pd.DataFrame({\n",
    "        'item_id': row.sim_item_ids.values[0].split(','),\n",
    "        'similarities': row.sim_scores.values[0].split(',')\n",
    "    })\n",
    "\n",
    "    columns_to_show = ['item_name', 'categories', 'average_rating', 'similarities']\n",
    "    df_biz_info = pd.merge(df_restaurants, df_mlt, how='inner')\n",
    "    df_biz_info = df_biz_info[columns_to_show].sort_values(\n",
    "        ['similarities', 'average_rating']\n",
    "    )\n",
    "    display(df_biz_info)\n",
    "\n",
    "    "
   ]
  },
  {
   "cell_type": "code",
   "execution_count": null,
   "metadata": {},
   "outputs": [],
   "source": []
  }
 ],
 "metadata": {
  "kernelspec": {
   "display_name": "Python 3",
   "language": "python",
   "name": "python3"
  },
  "language_info": {
   "codemirror_mode": {
    "name": "ipython",
    "version": 3
   },
   "file_extension": ".py",
   "mimetype": "text/x-python",
   "name": "python",
   "nbconvert_exporter": "python",
   "pygments_lexer": "ipython3",
   "version": "3.6.2"
  }
 },
 "nbformat": 4,
 "nbformat_minor": 2
}
