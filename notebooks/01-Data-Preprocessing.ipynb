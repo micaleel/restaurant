{
 "cells": [
  {
   "cell_type": "markdown",
   "metadata": {
    "run_control": {
     "frozen": false,
     "read_only": false
    }
   },
   "source": [
    "# 01 - Data Preprocessing\n",
    "\n",
    "This code in this notebook was run with the following configuration:\n",
    "\n",
    "    pd.__version__: 0.21.0"
   ]
  },
  {
   "cell_type": "code",
   "execution_count": 1,
   "metadata": {
    "ExecuteTime": {
     "end_time": "2017-11-14T22:17:56.974616Z",
     "start_time": "2017-11-14T22:17:56.553399Z"
    },
    "run_control": {
     "frozen": false,
     "read_only": false
    }
   },
   "outputs": [
    {
     "name": "stdout",
     "output_type": "stream",
     "text": [
      "0.21.0\n"
     ]
    }
   ],
   "source": [
    "import os\n",
    "import pandas as pd\n",
    "\n",
    "print(pd.__version__)"
   ]
  },
  {
   "cell_type": "code",
   "execution_count": 2,
   "metadata": {
    "ExecuteTime": {
     "end_time": "2017-11-14T22:17:57.098433Z",
     "start_time": "2017-11-14T22:17:56.976264Z"
    },
    "run_control": {
     "frozen": false,
     "read_only": false
    }
   },
   "outputs": [
    {
     "name": "stdout",
     "output_type": "stream",
     "text": [
      "items.csv                          yelp_academic_dataset_business.csv\r\n",
      "reviews.csv                        yelp_academic_dataset_review.csv\r\n"
     ]
    }
   ],
   "source": [
    "!ls ../data/"
   ]
  },
  {
   "cell_type": "markdown",
   "metadata": {
    "run_control": {
     "frozen": false,
     "read_only": false
    }
   },
   "source": [
    "## Load Businesses\n",
    "\n",
    "Load all business information, but only keep those that have been explicitly categorized as \"restarants\"."
   ]
  },
  {
   "cell_type": "code",
   "execution_count": 3,
   "metadata": {
    "ExecuteTime": {
     "end_time": "2017-11-14T22:17:58.589735Z",
     "start_time": "2017-11-14T22:17:57.101535Z"
    },
    "run_control": {
     "frozen": false,
     "read_only": false
    }
   },
   "outputs": [
    {
     "data": {
      "text/html": [
       "<div>\n",
       "<style scoped>\n",
       "    .dataframe tbody tr th:only-of-type {\n",
       "        vertical-align: middle;\n",
       "    }\n",
       "\n",
       "    .dataframe tbody tr th {\n",
       "        vertical-align: top;\n",
       "    }\n",
       "\n",
       "    .dataframe thead th {\n",
       "        text-align: right;\n",
       "    }\n",
       "</style>\n",
       "<table border=\"1\" class=\"dataframe\">\n",
       "  <thead>\n",
       "    <tr style=\"text-align: right;\">\n",
       "      <th></th>\n",
       "      <th>address</th>\n",
       "      <th>attributes</th>\n",
       "      <th>business_id</th>\n",
       "      <th>categories</th>\n",
       "      <th>city</th>\n",
       "      <th>hours</th>\n",
       "      <th>is_open</th>\n",
       "      <th>latitude</th>\n",
       "      <th>longitude</th>\n",
       "      <th>name</th>\n",
       "      <th>neighborhood</th>\n",
       "      <th>postal_code</th>\n",
       "      <th>review_count</th>\n",
       "      <th>stars</th>\n",
       "      <th>state</th>\n",
       "      <th>type</th>\n",
       "    </tr>\n",
       "  </thead>\n",
       "  <tbody>\n",
       "    <tr>\n",
       "      <th>2</th>\n",
       "      <td>979 Bloor Street W</td>\n",
       "      <td>Alcohol: none,Ambience: {'romantic': False, 'i...</td>\n",
       "      <td>EDqCEAGXVGCH4FJXgqtjqg</td>\n",
       "      <td>Restaurants,Pizza,Chicken Wings,Italian</td>\n",
       "      <td>Toronto</td>\n",
       "      <td>Monday 11:0-2:0,Tuesday 11:0-2:0,Wednesday 11:...</td>\n",
       "      <td>1</td>\n",
       "      <td>43.661054</td>\n",
       "      <td>-79.429089</td>\n",
       "      <td>Pizza Pizza</td>\n",
       "      <td>Dufferin Grove</td>\n",
       "      <td>M6H 1L5</td>\n",
       "      <td>7</td>\n",
       "      <td>2.5</td>\n",
       "      <td>ON</td>\n",
       "      <td>business</td>\n",
       "    </tr>\n",
       "    <tr>\n",
       "      <th>23</th>\n",
       "      <td>2000 Mansfield Street, Suite 104</td>\n",
       "      <td>Caters: True</td>\n",
       "      <td>a1Ba6XeIOP48e64YFD0dMw</td>\n",
       "      <td>Sandwiches,Breakfast &amp; Brunch,Salad,Restaurants</td>\n",
       "      <td>Montréal</td>\n",
       "      <td>Monday 6:30-17:0,Tuesday 6:30-17:0,Wednesday 6...</td>\n",
       "      <td>1</td>\n",
       "      <td>45.502346</td>\n",
       "      <td>-73.573807</td>\n",
       "      <td>La Prep</td>\n",
       "      <td>Ville-Marie</td>\n",
       "      <td>H3A 2Z6</td>\n",
       "      <td>3</td>\n",
       "      <td>4.0</td>\n",
       "      <td>QC</td>\n",
       "      <td>business</td>\n",
       "    </tr>\n",
       "    <tr>\n",
       "      <th>25</th>\n",
       "      <td>123 Front St, Unit 103 and 103-A</td>\n",
       "      <td>Alcohol: none,Ambience: {'romantic': False, 'i...</td>\n",
       "      <td>826djy6K_9Fp0ptqJ2_Yag</td>\n",
       "      <td>Fast Food,Mexican,Restaurants</td>\n",
       "      <td>Toronto</td>\n",
       "      <td>Monday 10:45-22:0,Tuesday 10:45-22:0,Wednesday...</td>\n",
       "      <td>1</td>\n",
       "      <td>43.644920</td>\n",
       "      <td>-79.383333</td>\n",
       "      <td>Chipotle Mexican Grill</td>\n",
       "      <td>Downtown Core</td>\n",
       "      <td>M5J 2M2</td>\n",
       "      <td>68</td>\n",
       "      <td>3.5</td>\n",
       "      <td>ON</td>\n",
       "      <td>business</td>\n",
       "    </tr>\n",
       "  </tbody>\n",
       "</table>\n",
       "</div>"
      ],
      "text/plain": [
       "                             address  \\\n",
       "2                 979 Bloor Street W   \n",
       "23  2000 Mansfield Street, Suite 104   \n",
       "25  123 Front St, Unit 103 and 103-A   \n",
       "\n",
       "                                           attributes             business_id  \\\n",
       "2   Alcohol: none,Ambience: {'romantic': False, 'i...  EDqCEAGXVGCH4FJXgqtjqg   \n",
       "23                                       Caters: True  a1Ba6XeIOP48e64YFD0dMw   \n",
       "25  Alcohol: none,Ambience: {'romantic': False, 'i...  826djy6K_9Fp0ptqJ2_Yag   \n",
       "\n",
       "                                         categories      city  \\\n",
       "2           Restaurants,Pizza,Chicken Wings,Italian   Toronto   \n",
       "23  Sandwiches,Breakfast & Brunch,Salad,Restaurants  Montréal   \n",
       "25                    Fast Food,Mexican,Restaurants   Toronto   \n",
       "\n",
       "                                                hours  is_open   latitude  \\\n",
       "2   Monday 11:0-2:0,Tuesday 11:0-2:0,Wednesday 11:...        1  43.661054   \n",
       "23  Monday 6:30-17:0,Tuesday 6:30-17:0,Wednesday 6...        1  45.502346   \n",
       "25  Monday 10:45-22:0,Tuesday 10:45-22:0,Wednesday...        1  43.644920   \n",
       "\n",
       "    longitude                    name    neighborhood postal_code  \\\n",
       "2  -79.429089             Pizza Pizza  Dufferin Grove     M6H 1L5   \n",
       "23 -73.573807                 La Prep     Ville-Marie     H3A 2Z6   \n",
       "25 -79.383333  Chipotle Mexican Grill   Downtown Core     M5J 2M2   \n",
       "\n",
       "    review_count  stars state      type  \n",
       "2              7    2.5    ON  business  \n",
       "23             3    4.0    QC  business  \n",
       "25            68    3.5    ON  business  "
      ]
     },
     "metadata": {},
     "output_type": "display_data"
    }
   ],
   "source": [
    "path = '../data/yelp_academic_dataset_business.csv'\n",
    "df_businesses = pd.read_csv(path, low_memory=False).dropna()\n",
    "df_businesses['is_restaurant'] = df_businesses.categories.apply(lambda c: 'Restaurants' in c)\n",
    "\n",
    "df_restaurants = df_businesses.query('is_restaurant == True').copy()\n",
    "df_restaurants.drop('is_restaurant', axis='columns', inplace=True)\n",
    "display(df_restaurants.head(3))\n",
    "del df_businesses"
   ]
  },
  {
   "cell_type": "markdown",
   "metadata": {
    "run_control": {
     "frozen": false,
     "read_only": false
    }
   },
   "source": [
    "## Load Reviews\n",
    "\n",
    "Read all reviews from the CSV file, but only keep those that are associated with the business IDs from the recently created `df_restaurants`. This process takes about 2 minutes to run for this particular dataset."
   ]
  },
  {
   "cell_type": "code",
   "execution_count": 4,
   "metadata": {
    "ExecuteTime": {
     "end_time": "2017-11-14T22:18:51.112688Z",
     "start_time": "2017-11-14T22:17:58.591304Z"
    },
    "run_control": {
     "frozen": false,
     "read_only": false
    }
   },
   "outputs": [
    {
     "name": "stdout",
     "output_type": "stream",
     "text": [
      "Loaded 4,153,148 reviews\n",
      "Filtered 1,253,064 restaurant reviews\n",
      "CPU times: user 43.8 s, sys: 8.02 s, total: 51.8 s\n",
      "Wall time: 52.5 s\n"
     ]
    }
   ],
   "source": [
    "%%time\n",
    "df_reviews = pd.read_csv('../data/yelp_academic_dataset_review.csv',low_memory=False).dropna()\n",
    "print('Loaded {:,} reviews'.format(len(df_reviews)))\n",
    "business_ids = df_restaurants.business_id.unique().tolist()\n",
    "df_reviews = df_reviews.query('business_id == @business_ids')\n",
    "print('Filtered {:,} restaurant reviews'.format(len(df_reviews)))"
   ]
  },
  {
   "cell_type": "code",
   "execution_count": 5,
   "metadata": {
    "ExecuteTime": {
     "end_time": "2017-11-14T22:18:52.176702Z",
     "start_time": "2017-11-14T22:18:51.118574Z"
    },
    "run_control": {
     "frozen": false,
     "read_only": false
    }
   },
   "outputs": [],
   "source": [
    "df_reviews['review_time'] = pd.to_datetime(df_reviews.date)\n",
    "df_reviews['review_year'] = df_reviews.review_time.dt.year"
   ]
  },
  {
   "cell_type": "markdown",
   "metadata": {
    "run_control": {
     "frozen": false,
     "read_only": false
    }
   },
   "source": [
    "## Rename and Filter Columns in DataFrames\n",
    "For consistency, let's define aliases for the original column names from the dataset."
   ]
  },
  {
   "cell_type": "code",
   "execution_count": 6,
   "metadata": {
    "ExecuteTime": {
     "end_time": "2017-11-14T22:18:52.444226Z",
     "start_time": "2017-11-14T22:18:52.178304Z"
    },
    "run_control": {
     "frozen": false,
     "read_only": false
    }
   },
   "outputs": [],
   "source": [
    "column_map = {\n",
    "    'business_id': 'item_id', \n",
    "    'text': 'review_text', \n",
    "    'date': 'review_time',\n",
    "    'name': 'item_name',\n",
    "    'stars': 'average_rating'\n",
    "}\n",
    "\n",
    "df_reviews.rename(columns=column_map, inplace=True)\n",
    "df_restaurants.rename(columns=column_map, inplace=True)\n",
    "\n",
    "# Keep only the columns we need for our recommender.\n",
    "df_reviews = df_reviews[\n",
    "    ['user_id', \n",
    "     'review_id',\n",
    "     'review_text',\n",
    "     'item_id', \n",
    "     'average_rating', \n",
    "     'review_time', \n",
    "     'review_year']\n",
    "]"
   ]
  },
  {
   "cell_type": "markdown",
   "metadata": {
    "run_control": {
     "frozen": false,
     "read_only": false
    }
   },
   "source": [
    "## Restaurant Statistics"
   ]
  },
  {
   "cell_type": "code",
   "execution_count": 7,
   "metadata": {
    "ExecuteTime": {
     "end_time": "2017-11-14T22:18:52.455693Z",
     "start_time": "2017-11-14T22:18:52.445832Z"
    },
    "run_control": {
     "frozen": false,
     "read_only": false
    }
   },
   "outputs": [],
   "source": [
    "def print_stats(df_reviews=None):\n",
    "    print('Restaurant Stats')\n",
    "    print('~'*32)\n",
    "    tmpl = '{:<15}: {:>15}'\n",
    "    print(tmpl.format('Reviews', '{:,}'.format(len(df_reviews))))\n",
    "    print(tmpl.format('Items', '{:,}'.format(df_reviews.item_id.nunique())))\n",
    "    print(tmpl.format('Users', '{:,}'.format(df_reviews.user_id.nunique())))\n",
    "\n",
    "    avg_rating = '{:.2f} (± {:.2f})'.format(\n",
    "        df_reviews.average_rating.mean(), \n",
    "        df_reviews.average_rating.std()\n",
    "    )\n",
    "\n",
    "    print(tmpl.format('Avg. Rating', avg_rating))"
   ]
  },
  {
   "cell_type": "code",
   "execution_count": 8,
   "metadata": {
    "ExecuteTime": {
     "end_time": "2017-11-14T22:18:52.873716Z",
     "start_time": "2017-11-14T22:18:52.457499Z"
    },
    "run_control": {
     "frozen": false,
     "read_only": false
    }
   },
   "outputs": [
    {
     "name": "stdout",
     "output_type": "stream",
     "text": [
      "Restaurant Stats\n",
      "~~~~~~~~~~~~~~~~~~~~~~~~~~~~~~~~\n",
      "Reviews        :       1,253,064\n",
      "Items          :          15,659\n",
      "Users          :         421,901\n",
      "Avg. Rating    :   3.74 (± 1.28)\n"
     ]
    }
   ],
   "source": [
    "print_stats(df_reviews)"
   ]
  },
  {
   "cell_type": "markdown",
   "metadata": {
    "ExecuteTime": {
     "end_time": "2017-11-14T20:20:38.955719Z",
     "start_time": "2017-11-14T20:20:38.953174Z"
    },
    "run_control": {
     "frozen": false,
     "read_only": false
    }
   },
   "source": [
    "## Sample Reviews\n",
    "For the purpose of this demo, let's focus only on reviews written in 2014 -- simply because we can 😉"
   ]
  },
  {
   "cell_type": "code",
   "execution_count": 9,
   "metadata": {
    "ExecuteTime": {
     "end_time": "2017-11-14T22:18:53.091470Z",
     "start_time": "2017-11-14T22:18:52.875510Z"
    },
    "run_control": {
     "frozen": false,
     "read_only": false
    }
   },
   "outputs": [],
   "source": [
    "%matplotlib inline\n",
    "%config InlineBackend.figure_format = 'retina'"
   ]
  },
  {
   "cell_type": "code",
   "execution_count": 10,
   "metadata": {
    "ExecuteTime": {
     "end_time": "2017-11-14T22:18:53.582632Z",
     "start_time": "2017-11-14T22:18:53.093252Z"
    },
    "run_control": {
     "frozen": false,
     "read_only": false
    }
   },
   "outputs": [
    {
     "data": {
      "image/png": "[encoded data removed]",
      "text/plain": [
       "<matplotlib.figure.Figure at 0x1683315c0>"
      ]
     },
     "metadata": {
      "image/png": {
       "height": 318,
       "width": 606
      }
     },
     "output_type": "display_data"
    }
   ],
   "source": [
    "df_reviews.review_year.value_counts().plot(\n",
    "    kind='barh', \n",
    "    rot=0, \n",
    "    figsize=(10,5), \n",
    "    title='Number of Reviews Per Year'\n",
    ");"
   ]
  },
  {
   "cell_type": "code",
   "execution_count": 11,
   "metadata": {
    "ExecuteTime": {
     "end_time": "2017-11-14T22:18:53.683273Z",
     "start_time": "2017-11-14T22:18:53.584460Z"
    },
    "run_control": {
     "frozen": false,
     "read_only": false
    }
   },
   "outputs": [],
   "source": [
    "review_years = [2009]\n",
    "df_reviews = df_reviews[df_reviews.review_year.isin(review_years)]\n",
    "item_ids = df_reviews.item_id.unique().tolist()\n",
    "\n",
    "# Remove restaurants that have no reviews due to our aggressive sampling\n",
    "df_restaurants = df_restaurants.query('item_id == @item_ids')"
   ]
  },
  {
   "cell_type": "markdown",
   "metadata": {
    "run_control": {
     "frozen": false,
     "read_only": false
    }
   },
   "source": [
    "## Restaurant Statistics, Again"
   ]
  },
  {
   "cell_type": "code",
   "execution_count": 12,
   "metadata": {
    "ExecuteTime": {
     "end_time": "2017-11-14T22:18:53.699296Z",
     "start_time": "2017-11-14T22:18:53.685061Z"
    },
    "run_control": {
     "frozen": false,
     "read_only": false
    }
   },
   "outputs": [
    {
     "name": "stdout",
     "output_type": "stream",
     "text": [
      "Restaurant Stats\n",
      "~~~~~~~~~~~~~~~~~~~~~~~~~~~~~~~~\n",
      "Reviews        :          28,344\n",
      "Items          :           4,174\n",
      "Users          :          11,165\n",
      "Avg. Rating    :   3.68 (± 1.14)\n"
     ]
    }
   ],
   "source": [
    "print_stats(df_reviews)"
   ]
  },
  {
   "cell_type": "markdown",
   "metadata": {
    "run_control": {
     "frozen": false,
     "read_only": false
    }
   },
   "source": [
    "## Save Sample to Disk"
   ]
  },
  {
   "cell_type": "code",
   "execution_count": 13,
   "metadata": {
    "ExecuteTime": {
     "end_time": "2017-11-14T22:18:54.640498Z",
     "start_time": "2017-11-14T22:18:53.700753Z"
    },
    "run_control": {
     "frozen": false,
     "read_only": false
    }
   },
   "outputs": [],
   "source": [
    "df_restaurants.to_csv(os.path.join('../data/items.csv'), index=False)\n",
    "df_reviews.to_csv(os.path.join('../data/reviews.csv'), index=False)"
   ]
  },
  {
   "cell_type": "markdown",
   "metadata": {
    "run_control": {
     "frozen": false,
     "read_only": false
    }
   },
   "source": [
    "## Create User-Item Rating Matrix\n",
    "Not that we need it, but simplest way to build a recommender system starts with such a rating matrix."
   ]
  },
  {
   "cell_type": "code",
   "execution_count": 14,
   "metadata": {
    "ExecuteTime": {
     "end_time": "2017-11-14T22:20:26.923183Z",
     "start_time": "2017-11-14T22:18:54.642035Z"
    },
    "run_control": {
     "frozen": false,
     "read_only": false
    }
   },
   "outputs": [
    {
     "name": "stdout",
     "output_type": "stream",
     "text": [
      "df_matrix.shape (11165, 4174)\n",
      "(11165, 4174)\n",
      "(11165, 4174)\n"
     ]
    }
   ],
   "source": [
    "header = True\n",
    "df_matrix = df_reviews.pivot(index='user_id', columns='item_id', values='average_rating')\n",
    "df_matrix.fillna(0, inplace=True)  # Replace NaNs with 0s.\n",
    "\n",
    "print('df_matrix.shape', df_matrix.shape)\n",
    "\n",
    "df_matrix_ratings = df_matrix.copy()\n",
    "df_matrix_ratings.to_csv('yp-matrix-ratings.csv', header=header, index=False)\n",
    "print(df_matrix_ratings.shape)\n",
    "\n",
    "# Convert ratings matrix to binary matrix\n",
    "df_matrix_binary = df_matrix.applymap(lambda x: 1 if x > 0 else 0)\n",
    "df_matrix_binary.to_csv('yp-matrix-binary.csv', header=header, index=False)\n",
    "print(df_matrix_binary.shape)"
   ]
  },
  {
   "cell_type": "code",
   "execution_count": null,
   "metadata": {
    "run_control": {
     "frozen": false,
     "read_only": false
    }
   },
   "outputs": [],
   "source": []
  },
  {
   "cell_type": "code",
   "execution_count": null,
   "metadata": {
    "run_control": {
     "frozen": false,
     "read_only": false
    }
   },
   "outputs": [],
   "source": []
  }
 ],
 "metadata": {
  "kernelspec": {
   "display_name": "Python 3",
   "language": "python",
   "name": "python3"
  },
  "language_info": {
   "codemirror_mode": {
    "name": "ipython",
    "version": 3
   },
   "file_extension": ".py",
   "mimetype": "text/x-python",
   "name": "python",
   "nbconvert_exporter": "python",
   "pygments_lexer": "ipython3",
   "version": "3.6.2"
  }
 },
 "nbformat": 4,
 "nbformat_minor": 2
}
